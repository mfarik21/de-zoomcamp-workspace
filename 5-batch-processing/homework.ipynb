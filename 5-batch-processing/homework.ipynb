{
 "cells": [
  {
   "cell_type": "markdown",
   "id": "2cea02d2",
   "metadata": {},
   "source": [
    "# Homework"
   ]
  },
  {
   "cell_type": "markdown",
   "id": "34f7216e",
   "metadata": {},
   "source": [
    "Question 1. Spark version\n",
    "3.4.2\n",
    "\n",
    "Question 2. FHV October 2019 partition size\n",
    "6 MB\n",
    "\n",
    "Question 3. Count records on 15th of October \n",
    "62610\n",
    "\n",
    "Question 4. The longest trip\n",
    "631152.5 hours\n",
    "\n",
    "Question 5. Spark UI port\n",
    "4040\n",
    "\n",
    "Question 6. Least frequent pickup location zone\n",
    "Jamaica Bay"
   ]
  },
  {
   "cell_type": "code",
   "execution_count": null,
   "id": "cb5be58f",
   "metadata": {},
   "outputs": [],
   "source": [
    "# Question 1 "
   ]
  },
  {
   "cell_type": "code",
   "execution_count": 1,
   "id": "b210042d",
   "metadata": {},
   "outputs": [],
   "source": [
    "import pyspark\n",
    "from pyspark.sql import SparkSession"
   ]
  },
  {
   "cell_type": "code",
   "execution_count": 2,
   "id": "25aa30b2",
   "metadata": {},
   "outputs": [
    {
     "name": "stderr",
     "output_type": "stream",
     "text": [
      "24/03/04 14:21:19 WARN Utils: Your hostname, farik-ThinkPad-E14-Gen-2 resolves to a loopback address: 127.0.1.1; using 192.168.8.105 instead (on interface wlp0s20f3)\n",
      "24/03/04 14:21:19 WARN Utils: Set SPARK_LOCAL_IP if you need to bind to another address\n",
      "Setting default log level to \"WARN\".\n",
      "To adjust logging level use sc.setLogLevel(newLevel). For SparkR, use setLogLevel(newLevel).\n",
      "24/03/04 14:21:19 WARN NativeCodeLoader: Unable to load native-hadoop library for your platform... using builtin-java classes where applicable\n"
     ]
    }
   ],
   "source": [
    "spark = SparkSession.builder \\\n",
    "    .master(\"local[*]\") \\\n",
    "    .appName('test') \\\n",
    "    .getOrCreate()"
   ]
  },
  {
   "cell_type": "code",
   "execution_count": 3,
   "id": "21a9c897",
   "metadata": {},
   "outputs": [
    {
     "data": {
      "text/plain": [
       "'3.4.2'"
      ]
     },
     "execution_count": 3,
     "metadata": {},
     "output_type": "execute_result"
    }
   ],
   "source": [
    "pyspark.__version__"
   ]
  },
  {
   "cell_type": "code",
   "execution_count": null,
   "id": "34ffd4ab",
   "metadata": {},
   "outputs": [],
   "source": [
    "# Question 2"
   ]
  },
  {
   "cell_type": "code",
   "execution_count": 5,
   "id": "00e7444e",
   "metadata": {},
   "outputs": [],
   "source": [
    "import pandas as pd"
   ]
  },
  {
   "cell_type": "code",
   "execution_count": 8,
   "id": "d22c933d",
   "metadata": {},
   "outputs": [],
   "source": [
    "df_fhv_pd = pd.read_csv('data/raw/fhv/2019/10/fhv_tripdata_2019-10.csv.gz', nrows=1000)"
   ]
  },
  {
   "cell_type": "code",
   "execution_count": 14,
   "id": "a24ef78f",
   "metadata": {},
   "outputs": [
    {
     "data": {
      "text/plain": [
       "dispatching_base_num       object\n",
       "pickup_datetime            object\n",
       "dropOff_datetime           object\n",
       "PUlocationID              float64\n",
       "DOlocationID              float64\n",
       "SR_Flag                   float64\n",
       "Affiliated_base_number     object\n",
       "dtype: object"
      ]
     },
     "execution_count": 14,
     "metadata": {},
     "output_type": "execute_result"
    }
   ],
   "source": [
    "df_fhv_pd.dtypes"
   ]
  },
  {
   "cell_type": "code",
   "execution_count": 15,
   "id": "029062de",
   "metadata": {},
   "outputs": [
    {
     "data": {
      "text/plain": [
       "StructType([StructField('dispatching_base_num', StringType(), True), StructField('pickup_datetime', StringType(), True), StructField('dropOff_datetime', StringType(), True), StructField('PUlocationID', DoubleType(), True), StructField('DOlocationID', DoubleType(), True), StructField('SR_Flag', DoubleType(), True), StructField('Affiliated_base_number', StringType(), True)])"
      ]
     },
     "execution_count": 15,
     "metadata": {},
     "output_type": "execute_result"
    }
   ],
   "source": [
    "spark.createDataFrame(df_fhv_pd).schema"
   ]
  },
  {
   "cell_type": "code",
   "execution_count": 16,
   "id": "7fcac9a8",
   "metadata": {},
   "outputs": [],
   "source": [
    "from pyspark.sql import types"
   ]
  },
  {
   "cell_type": "code",
   "execution_count": 17,
   "id": "b00c2709",
   "metadata": {},
   "outputs": [],
   "source": [
    "schema = types.StructType([\n",
    "    types.StructField('dispatching_base_num', types.StringType(), True), \n",
    "    types.StructField('pickup_datetime', types.StringType(), True), \n",
    "    types.StructField('dropOff_datetime', types.StringType(), True), \n",
    "    types.StructField('PUlocationID', types.IntegerType(), True), \n",
    "    types.StructField('DOlocationID', types.IntegerType(), True), \n",
    "    types.StructField('SR_Flag', types.StringType(), True), \n",
    "    types.StructField('Affiliated_base_number', types.StringType(), True)\n",
    "])"
   ]
  },
  {
   "cell_type": "code",
   "execution_count": 18,
   "id": "ce7233f5",
   "metadata": {},
   "outputs": [],
   "source": [
    "df_fhv = spark.read \\\n",
    "    .option(\"header\", \"true\") \\\n",
    "    .schema(schema) \\\n",
    "    .csv('data/raw/fhv/2019/10/fhv_tripdata_2019-10.csv.gz')"
   ]
  },
  {
   "cell_type": "code",
   "execution_count": 19,
   "id": "70c8a6f8",
   "metadata": {},
   "outputs": [
    {
     "name": "stderr",
     "output_type": "stream",
     "text": [
      "                                                                                \r"
     ]
    }
   ],
   "source": [
    "df_fhv \\\n",
    "    .repartition(6) \\\n",
    "    .write.parquet('data/pq/fhv/2019/10/')"
   ]
  },
  {
   "cell_type": "code",
   "execution_count": 20,
   "id": "9d52d12a",
   "metadata": {},
   "outputs": [
    {
     "name": "stdout",
     "output_type": "stream",
     "text": [
      "data/pq/fhv/2019:\r\n",
      "total 4,0K\r\n",
      "drwxr-xr-x 2 farik farik 4,0K Mar  4 14:36 10\r\n",
      "\r\n",
      "data/pq/fhv/2019/10:\r\n",
      "total 39M\r\n",
      "-rw-r--r-- 1 farik farik 6,5M Mar  4 14:36 part-00000-b74f94eb-2d12-4707-afe2-0bacdf7138d0-c000.snappy.parquet\r\n",
      "-rw-r--r-- 1 farik farik 6,5M Mar  4 14:36 part-00001-b74f94eb-2d12-4707-afe2-0bacdf7138d0-c000.snappy.parquet\r\n",
      "-rw-r--r-- 1 farik farik 6,5M Mar  4 14:36 part-00002-b74f94eb-2d12-4707-afe2-0bacdf7138d0-c000.snappy.parquet\r\n",
      "-rw-r--r-- 1 farik farik 6,5M Mar  4 14:36 part-00003-b74f94eb-2d12-4707-afe2-0bacdf7138d0-c000.snappy.parquet\r\n",
      "-rw-r--r-- 1 farik farik 6,5M Mar  4 14:36 part-00004-b74f94eb-2d12-4707-afe2-0bacdf7138d0-c000.snappy.parquet\r\n",
      "-rw-r--r-- 1 farik farik 6,5M Mar  4 14:36 part-00005-b74f94eb-2d12-4707-afe2-0bacdf7138d0-c000.snappy.parquet\r\n",
      "-rw-r--r-- 1 farik farik    0 Mar  4 14:36 _SUCCESS\r\n"
     ]
    }
   ],
   "source": [
    "!ls -lhR data/pq/fhv/2019"
   ]
  },
  {
   "cell_type": "code",
   "execution_count": null,
   "id": "53deb143",
   "metadata": {},
   "outputs": [],
   "source": [
    "# question 3"
   ]
  },
  {
   "cell_type": "code",
   "execution_count": 23,
   "id": "0ae2b480",
   "metadata": {},
   "outputs": [],
   "source": [
    "df_trips_data = spark.read.parquet('data/pq/fhv/2019/10/')"
   ]
  },
  {
   "cell_type": "code",
   "execution_count": 32,
   "id": "feb5f9d2",
   "metadata": {},
   "outputs": [],
   "source": [
    "df_trips_data.createOrReplaceTempView('trips_data')"
   ]
  },
  {
   "cell_type": "code",
   "execution_count": 80,
   "id": "23076c80",
   "metadata": {},
   "outputs": [],
   "source": [
    "df_result = spark.sql(\"\"\"\n",
    "SELECT \n",
    "    COUNT(1) AS count\n",
    "FROM\n",
    "    trips_data\n",
    "WHERE\n",
    "    day(pickup_datetime) = 15 AND month(pickup_datetime) = 10\n",
    "\"\"\")\n"
   ]
  },
  {
   "cell_type": "code",
   "execution_count": 81,
   "id": "23cd6a8c",
   "metadata": {},
   "outputs": [
    {
     "name": "stdout",
     "output_type": "stream",
     "text": [
      "+-----+\n",
      "|count|\n",
      "+-----+\n",
      "|62610|\n",
      "+-----+\n",
      "\n"
     ]
    }
   ],
   "source": [
    "df_result.show()"
   ]
  },
  {
   "cell_type": "code",
   "execution_count": null,
   "id": "7a50c363",
   "metadata": {},
   "outputs": [],
   "source": [
    "# Question 4"
   ]
  },
  {
   "cell_type": "code",
   "execution_count": 44,
   "id": "97167086",
   "metadata": {},
   "outputs": [],
   "source": [
    "df_result = spark.sql(\"\"\"\n",
    "SELECT \n",
    "    MAX((unix_timestamp(dropOff_datetime) - unix_timestamp(pickup_datetime)) / 3600) AS max_diff\n",
    "FROM\n",
    "    trips_data\n",
    "\"\"\")"
   ]
  },
  {
   "cell_type": "code",
   "execution_count": 45,
   "id": "4cf1423a",
   "metadata": {},
   "outputs": [
    {
     "name": "stderr",
     "output_type": "stream",
     "text": [
      "\r",
      "[Stage 18:>                                                         (0 + 6) / 6]\r"
     ]
    },
    {
     "name": "stdout",
     "output_type": "stream",
     "text": [
      "+--------+\n",
      "|max_diff|\n",
      "+--------+\n",
      "|631152.5|\n",
      "+--------+\n",
      "\n"
     ]
    },
    {
     "name": "stderr",
     "output_type": "stream",
     "text": [
      "\r",
      "                                                                                \r"
     ]
    }
   ],
   "source": [
    "df_result.show()"
   ]
  },
  {
   "cell_type": "code",
   "execution_count": null,
   "id": "491c6ce9",
   "metadata": {},
   "outputs": [],
   "source": [
    "# Question 6"
   ]
  },
  {
   "cell_type": "code",
   "execution_count": 46,
   "id": "e5831f0f",
   "metadata": {},
   "outputs": [],
   "source": [
    "df_zones = spark.read.parquet('zones/')"
   ]
  },
  {
   "cell_type": "code",
   "execution_count": 55,
   "id": "a66ca955",
   "metadata": {},
   "outputs": [],
   "source": [
    "df_join = df_trips_data.join(df_zones, df_trips_data.PUlocationID == df_zones.LocationID)"
   ]
  },
  {
   "cell_type": "code",
   "execution_count": 59,
   "id": "3835c3c9",
   "metadata": {},
   "outputs": [],
   "source": [
    "df_join.createOrReplaceTempView('trips_join')"
   ]
  },
  {
   "cell_type": "code",
   "execution_count": 68,
   "id": "526c8635",
   "metadata": {},
   "outputs": [],
   "source": [
    "df_result = spark.sql(\"\"\"\n",
    "SELECT \n",
    "    COUNT(1) AS count,\n",
    "    Zone\n",
    "FROM\n",
    "    trips_join\n",
    "GROUP BY \n",
    "    Zone\n",
    "ORDER BY \n",
    "    1 ASC\n",
    "\"\"\")\n"
   ]
  },
  {
   "cell_type": "code",
   "execution_count": 69,
   "id": "d30e1f71",
   "metadata": {},
   "outputs": [
    {
     "name": "stdout",
     "output_type": "stream",
     "text": [
      "+-----+--------------------+\n",
      "|count|                Zone|\n",
      "+-----+--------------------+\n",
      "|    1|         Jamaica Bay|\n",
      "|    2|Governor's Island...|\n",
      "|    5| Green-Wood Cemetery|\n",
      "|    8|       Broad Channel|\n",
      "|   14|     Highbridge Park|\n",
      "|   15|        Battery Park|\n",
      "|   23|Saint Michaels Ce...|\n",
      "|   25|Breezy Point/Fort...|\n",
      "|   26|Marine Park/Floyd...|\n",
      "|   29|        Astoria Park|\n",
      "|   39|    Inwood Hill Park|\n",
      "|   47|       Willets Point|\n",
      "|   53|Forest Park/Highl...|\n",
      "|   57|  Brooklyn Navy Yard|\n",
      "|   62|        Crotona Park|\n",
      "|   77|        Country Club|\n",
      "|   89|     Freshkills Park|\n",
      "|   98|       Prospect Park|\n",
      "|  105|     Columbia Street|\n",
      "|  110|  South Williamsburg|\n",
      "+-----+--------------------+\n",
      "only showing top 20 rows\n",
      "\n"
     ]
    }
   ],
   "source": [
    "df_result.show()"
   ]
  },
  {
   "cell_type": "code",
   "execution_count": null,
   "id": "c102a297",
   "metadata": {},
   "outputs": [],
   "source": []
  }
 ],
 "metadata": {
  "kernelspec": {
   "display_name": "Python 3 (ipykernel)",
   "language": "python",
   "name": "python3"
  },
  "language_info": {
   "codemirror_mode": {
    "name": "ipython",
    "version": 3
   },
   "file_extension": ".py",
   "mimetype": "text/x-python",
   "name": "python",
   "nbconvert_exporter": "python",
   "pygments_lexer": "ipython3",
   "version": "3.9.13"
  }
 },
 "nbformat": 4,
 "nbformat_minor": 5
}
