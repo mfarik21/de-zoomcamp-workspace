{
 "cells": [
  {
   "cell_type": "code",
   "execution_count": 1,
   "id": "a0256680",
   "metadata": {},
   "outputs": [],
   "source": [
    "import pyspark\n",
    "from pyspark.sql import SparkSession"
   ]
  },
  {
   "cell_type": "code",
   "execution_count": 2,
   "id": "fb70a390",
   "metadata": {},
   "outputs": [
    {
     "name": "stderr",
     "output_type": "stream",
     "text": [
      "24/03/03 16:05:23 WARN Utils: Your hostname, farik-ThinkPad-E14-Gen-2 resolves to a loopback address: 127.0.1.1; using 192.168.8.105 instead (on interface wlp0s20f3)\n",
      "24/03/03 16:05:23 WARN Utils: Set SPARK_LOCAL_IP if you need to bind to another address\n",
      "Setting default log level to \"WARN\".\n",
      "To adjust logging level use sc.setLogLevel(newLevel). For SparkR, use setLogLevel(newLevel).\n",
      "24/03/03 16:05:23 WARN NativeCodeLoader: Unable to load native-hadoop library for your platform... using builtin-java classes where applicable\n"
     ]
    }
   ],
   "source": [
    "spark = SparkSession.builder \\\n",
    "    .master(\"local[*]\") \\\n",
    "    .appName('test') \\\n",
    "    .getOrCreate()"
   ]
  },
  {
   "cell_type": "code",
   "execution_count": 3,
   "id": "bf20ecee",
   "metadata": {},
   "outputs": [],
   "source": [
    "df_green = spark.read.parquet('data/pq/green/*/*')"
   ]
  },
  {
   "cell_type": "code",
   "execution_count": 5,
   "id": "ec6cd185",
   "metadata": {},
   "outputs": [],
   "source": [
    "df_green.createOrReplaceTempView('green')"
   ]
  },
  {
   "cell_type": "code",
   "execution_count": 18,
   "id": "a7801926",
   "metadata": {},
   "outputs": [],
   "source": [
    "df_green_revenue = spark.sql(\"\"\"\n",
    "SELECT \n",
    "    -- Reveneue grouping \n",
    "    date_trunc('hour', lpep_pickup_datetime) AS hour, \n",
    "    PULocationID AS zone,\n",
    "\n",
    "\n",
    "    -- Revenue calculation \n",
    "    SUM(total_amount) AS amount,\n",
    "    COUNT(1) AS number_records\n",
    "FROM\n",
    "    green\n",
    "WHERE lpep_pickup_datetime >= '2020-01-01 00:00:00'\n",
    "GROUP BY\n",
    "    1, 2\n",
    "ORDER BY\n",
    "    1, 2\n",
    "\"\"\")\n"
   ]
  },
  {
   "cell_type": "code",
   "execution_count": 19,
   "id": "2a558755",
   "metadata": {},
   "outputs": [
    {
     "name": "stdout",
     "output_type": "stream",
     "text": [
      "+-------------------+----+------------------+--------------+\n",
      "|               hour|zone|            amount|number_records|\n",
      "+-------------------+----+------------------+--------------+\n",
      "|2020-01-17 11:00:00|  41| 513.6600000000003|            46|\n",
      "|2020-01-30 13:00:00|  75| 1330.859999999999|            76|\n",
      "|2020-01-27 20:00:00| 244|398.00000000000006|            16|\n",
      "|2020-01-16 10:00:00|  74|1021.2199999999987|            80|\n",
      "|2020-01-24 17:00:00| 260| 308.0600000000001|            27|\n",
      "|2020-01-03 01:00:00|  80|             80.61|             6|\n",
      "|2020-01-08 14:00:00|  33| 687.7900000000001|            34|\n",
      "|2020-01-07 19:00:00|  66|324.78000000000003|            19|\n",
      "|2020-01-14 12:00:00|  21|             90.22|             2|\n",
      "|2020-01-17 17:00:00|  41| 845.2499999999994|            66|\n",
      "|2020-01-02 09:00:00|   7|367.50000000000017|            30|\n",
      "|2020-01-15 20:00:00| 145|             39.41|             2|\n",
      "|2020-01-06 19:00:00|  92| 293.2000000000001|            18|\n",
      "|2020-01-24 11:00:00| 129| 360.1600000000001|            20|\n",
      "|2020-01-10 15:00:00| 166| 697.8199999999996|            55|\n",
      "|2020-01-11 15:00:00| 241|            101.31|             4|\n",
      "|2020-01-14 01:00:00|  92|100.19999999999999|             9|\n",
      "|2020-01-02 12:00:00|   7| 352.7600000000001|            23|\n",
      "|2020-01-10 11:00:00|  95|488.52000000000015|            30|\n",
      "|2020-01-30 04:00:00| 117|             54.59|             3|\n",
      "+-------------------+----+------------------+--------------+\n",
      "only showing top 20 rows\n",
      "\n"
     ]
    },
    {
     "name": "stderr",
     "output_type": "stream",
     "text": [
      "\r",
      "[Stage 21:==================================================>       (7 + 1) / 8]\r",
      "\r",
      "                                                                                \r"
     ]
    }
   ],
   "source": [
    "df_green_revenue.show()"
   ]
  },
  {
   "cell_type": "code",
   "execution_count": 30,
   "id": "031f1655",
   "metadata": {},
   "outputs": [
    {
     "name": "stderr",
     "output_type": "stream",
     "text": [
      "24/03/03 16:21:08 WARN MemoryManager: Total allocation exceeds 95.00% (1,020,054,720 bytes) of heap memory\n",
      "Scaling row group sizes to 95.00% for 8 writers\n"
     ]
    }
   ],
   "source": [
    "df_green_revenue \\\n",
    "    .repartition(8) \\\n",
    "    .write.parquet('data/report/revenue/green', mode=\"overwrite\")"
   ]
  },
  {
   "cell_type": "code",
   "execution_count": 21,
   "id": "e626a95c",
   "metadata": {},
   "outputs": [],
   "source": [
    "df_yellow = spark.read.parquet('data/pq/yellow/*/*')"
   ]
  },
  {
   "cell_type": "code",
   "execution_count": 22,
   "id": "5d6950ce",
   "metadata": {},
   "outputs": [],
   "source": [
    "df_yellow.createOrReplaceTempView('yellow')"
   ]
  },
  {
   "cell_type": "code",
   "execution_count": 25,
   "id": "f72376b2",
   "metadata": {},
   "outputs": [],
   "source": [
    "df_yellow_revenue = spark.sql(\"\"\"\n",
    "SELECT \n",
    "    -- Reveneue grouping \n",
    "    date_trunc('hour', tpep_pickup_datetime) AS hour, \n",
    "    PULocationID AS zone,\n",
    "\n",
    "\n",
    "    -- Revenue calculation \n",
    "    SUM(total_amount) AS amount,\n",
    "    COUNT(1) AS number_records\n",
    "FROM\n",
    "    yellow\n",
    "WHERE tpep_pickup_datetime >= '2020-01-01 00:00:00'\n",
    "GROUP BY\n",
    "    1, 2\n",
    "ORDER BY\n",
    "    1, 2\n",
    "\"\"\")\n"
   ]
  },
  {
   "cell_type": "code",
   "execution_count": 26,
   "id": "c446702a",
   "metadata": {},
   "outputs": [
    {
     "name": "stderr",
     "output_type": "stream",
     "text": [
      "[Stage 28:===================================================>    (12 + 1) / 13]\r"
     ]
    },
    {
     "name": "stdout",
     "output_type": "stream",
     "text": [
      "+-------------------+----+------------------+--------------+\n",
      "|               hour|zone|            amount|number_records|\n",
      "+-------------------+----+------------------+--------------+\n",
      "|2020-01-01 00:00:00|   3|              25.0|             1|\n",
      "|2020-01-01 00:00:00|   4|1004.3000000000002|            57|\n",
      "|2020-01-01 00:00:00|   7| 455.1700000000001|            38|\n",
      "|2020-01-01 00:00:00|  10|             42.41|             2|\n",
      "|2020-01-01 00:00:00|  12|106.99999999999999|             6|\n",
      "|2020-01-01 00:00:00|  13|1214.8000000000002|            56|\n",
      "|2020-01-01 00:00:00|  14|               8.8|             1|\n",
      "|2020-01-01 00:00:00|  15|             34.09|             1|\n",
      "|2020-01-01 00:00:00|  17|220.20999999999998|             8|\n",
      "|2020-01-01 00:00:00|  18|               5.8|             1|\n",
      "|2020-01-01 00:00:00|  24|            754.95|            45|\n",
      "|2020-01-01 00:00:00|  25|            324.35|            16|\n",
      "|2020-01-01 00:00:00|  32|              18.0|             1|\n",
      "|2020-01-01 00:00:00|  33|            255.56|             8|\n",
      "|2020-01-01 00:00:00|  34|              19.3|             1|\n",
      "|2020-01-01 00:00:00|  36|            109.17|             3|\n",
      "|2020-01-01 00:00:00|  37|            161.61|             7|\n",
      "|2020-01-01 00:00:00|  40|             89.97|             5|\n",
      "|2020-01-01 00:00:00|  41|1256.5299999999997|            80|\n",
      "|2020-01-01 00:00:00|  42| 635.3500000000001|            46|\n",
      "+-------------------+----+------------------+--------------+\n",
      "only showing top 20 rows\n",
      "\n"
     ]
    },
    {
     "name": "stderr",
     "output_type": "stream",
     "text": [
      "\r",
      "                                                                                \r"
     ]
    }
   ],
   "source": [
    "df_yellow_revenue.show()"
   ]
  },
  {
   "cell_type": "code",
   "execution_count": 31,
   "id": "40fd19ee",
   "metadata": {},
   "outputs": [
    {
     "name": "stderr",
     "output_type": "stream",
     "text": [
      "24/03/03 16:21:34 WARN MemoryManager: Total allocation exceeds 95.00% (1,020,054,720 bytes) of heap memory\n",
      "Scaling row group sizes to 95.00% for 8 writers\n",
      "                                                                                \r"
     ]
    }
   ],
   "source": [
    "df_yellow_revenue \\\n",
    "    .repartition(8) \\\n",
    "    .write.parquet('data/report/revenue/yellow', mode=\"overwrite\")"
   ]
  },
  {
   "cell_type": "code",
   "execution_count": 48,
   "id": "2860bb28",
   "metadata": {},
   "outputs": [],
   "source": [
    "df_green_revenue = spark.read.parquet('data/report/revenue/green/')\n",
    "df_yellow_revenue = spark.read.parquet('data/report/revenue/yellow/')"
   ]
  },
  {
   "cell_type": "code",
   "execution_count": 49,
   "id": "8008e0ae",
   "metadata": {},
   "outputs": [],
   "source": [
    "df_green_revenue_tmp = df_green_revenue \\\n",
    "    .withColumnRenamed(\"amount\", \"green_amount\") \\\n",
    "    .withColumnRenamed(\"number_records\", \"green_number_records\")"
   ]
  },
  {
   "cell_type": "code",
   "execution_count": 50,
   "id": "b9cdaf9d",
   "metadata": {},
   "outputs": [],
   "source": [
    "df_yellow_revenue_tmp = df_yellow_revenue \\\n",
    "    .withColumnRenamed(\"amount\", \"yellow_amount\") \\\n",
    "    .withColumnRenamed(\"number_records\", \"yellow_number_records\")"
   ]
  },
  {
   "cell_type": "code",
   "execution_count": 51,
   "id": "cb87df3a",
   "metadata": {},
   "outputs": [],
   "source": [
    "df_join = df_green_revenue_tmp.join(df_yellow_revenue_tmp, on=[\"hour\", \"zone\"], how=\"outer\")"
   ]
  },
  {
   "cell_type": "code",
   "execution_count": 41,
   "id": "e636dbcd",
   "metadata": {},
   "outputs": [
    {
     "name": "stderr",
     "output_type": "stream",
     "text": [
      "[Stage 70:===================================================>    (12 + 1) / 13]\r"
     ]
    },
    {
     "name": "stdout",
     "output_type": "stream",
     "text": [
      "+-------------------+----+-----------------+--------------------+------------------+---------------------+\n",
      "|               hour|zone|     green_amount|green_number_records|     yellow_amount|yellow_number_records|\n",
      "+-------------------+----+-----------------+--------------------+------------------+---------------------+\n",
      "|2020-01-01 00:00:00|   7|769.7299999999997|                  45| 455.1700000000001|                   38|\n",
      "|2020-01-01 00:00:00|  13|             null|                null|1214.8000000000002|                   56|\n",
      "|2020-01-01 00:00:00|  18|              7.8|                   1|               5.8|                    1|\n",
      "|2020-01-01 00:00:00|  32|68.94999999999999|                   2|              18.0|                    1|\n",
      "|2020-01-01 00:00:00|  34|             null|                null|              19.3|                    1|\n",
      "|2020-01-01 00:00:00|  83|94.09999999999998|                   7|               9.8|                    1|\n",
      "|2020-01-01 00:00:00|  90|             null|                null| 5010.450000000001|                  266|\n",
      "|2020-01-01 00:00:00|  94|64.24000000000001|                   3|              13.3|                    1|\n",
      "|2020-01-01 00:00:00| 114|             null|                null| 6256.430000000005|                  333|\n",
      "|2020-01-01 00:00:00| 126|             null|                null|             170.6|                    2|\n",
      "|2020-01-01 00:00:00| 134|            69.05|                   6|              null|                 null|\n",
      "|2020-01-01 00:00:00| 146|99.36999999999999|                   6|110.74000000000001|                    7|\n",
      "|2020-01-01 00:00:00| 161|             null|                null| 9410.210000000017|                  488|\n",
      "|2020-01-01 00:00:00| 170|             null|                null| 8266.010000000018|                  463|\n",
      "|2020-01-01 00:00:00| 192|             12.3|                   1|              null|                 null|\n",
      "|2020-01-01 00:00:00| 231|             null|                null|           4822.66|                  245|\n",
      "|2020-01-01 00:00:00| 262|             null|                null|2239.5199999999986|                  149|\n",
      "|2020-01-01 01:00:00|  29|            32.04|                   2|              27.0|                    1|\n",
      "|2020-01-01 01:00:00|  35|           239.37|                   8|              99.4|                    2|\n",
      "|2020-01-01 01:00:00|  37|            88.16|                   4|            736.46|                   24|\n",
      "+-------------------+----+-----------------+--------------------+------------------+---------------------+\n",
      "only showing top 20 rows\n",
      "\n"
     ]
    },
    {
     "name": "stderr",
     "output_type": "stream",
     "text": [
      "\r",
      "                                                                                \r"
     ]
    }
   ],
   "source": [
    "df_join.show()"
   ]
  },
  {
   "cell_type": "code",
   "execution_count": 52,
   "id": "15545a2e",
   "metadata": {},
   "outputs": [
    {
     "name": "stderr",
     "output_type": "stream",
     "text": [
      "24/03/03 17:00:05 WARN MemoryManager: Total allocation exceeds 95.00% (1,020,054,720 bytes) of heap memory\n",
      "Scaling row group sizes to 95.00% for 8 writers\n",
      "                                                                                \r"
     ]
    }
   ],
   "source": [
    "df_join.write.parquet(\"data/report/revenue/total\", mode=\"overwrite\")"
   ]
  },
  {
   "cell_type": "code",
   "execution_count": 53,
   "id": "e2e4a386",
   "metadata": {},
   "outputs": [],
   "source": [
    "df_join = spark.read.parquet('data/report/revenue/total')"
   ]
  },
  {
   "cell_type": "code",
   "execution_count": 54,
   "id": "3714634c",
   "metadata": {},
   "outputs": [
    {
     "name": "stdout",
     "output_type": "stream",
     "text": [
      "+-------------------+----+------------------+--------------------+------------------+---------------------+\n",
      "|               hour|zone|      green_amount|green_number_records|     yellow_amount|yellow_number_records|\n",
      "+-------------------+----+------------------+--------------------+------------------+---------------------+\n",
      "|2020-01-01 00:00:00|  24|              87.6|                   3|            754.95|                   45|\n",
      "|2020-01-01 00:00:00|  36|            295.34|                  11|            109.17|                    3|\n",
      "|2020-01-01 00:00:00|  59|50.900000000000006|                   3|              null|                 null|\n",
      "|2020-01-01 00:00:00|  61|            526.71|                  17|            146.64|                    3|\n",
      "|2020-01-01 00:00:00|  65|199.48999999999998|                  10| 409.3500000000001|                   19|\n",
      "|2020-01-01 00:00:00|  88|              null|                null| 823.8000000000002|                   36|\n",
      "|2020-01-01 00:00:00|  93|              null|                null|210.28000000000003|                    3|\n",
      "|2020-01-01 00:00:00| 112|312.26000000000005|                  18|119.47999999999999|                    8|\n",
      "|2020-01-01 00:00:00| 142|              null|                null| 9252.300000000017|                  488|\n",
      "|2020-01-01 00:00:00| 162|              null|                null|           4622.29|                  268|\n",
      "|2020-01-01 00:00:00| 163|              null|                null|2652.9799999999977|                  152|\n",
      "|2020-01-01 00:00:00| 166| 504.0100000000001|                  33|1597.3099999999995|                  100|\n",
      "|2020-01-01 00:00:00| 169|             64.17|                   3|              62.2|                    5|\n",
      "|2020-01-01 00:00:00| 232|              null|                null|           1124.94|                   51|\n",
      "|2020-01-01 00:00:00| 234|              null|                null| 8815.860000000017|                  480|\n",
      "|2020-01-01 00:00:00| 244|            183.58|                  12|            263.17|                   19|\n",
      "|2020-01-01 00:00:00| 246|              null|                null|4599.1900000000005|                  219|\n",
      "|2020-01-01 00:00:00| 261|              null|                null|           1013.94|                   51|\n",
      "|2020-01-01 01:00:00|  12|              null|                null|             80.91|                    4|\n",
      "|2020-01-01 01:00:00|  24|126.41999999999999|                   6| 783.9000000000003|                   44|\n",
      "+-------------------+----+------------------+--------------------+------------------+---------------------+\n",
      "only showing top 20 rows\n",
      "\n"
     ]
    }
   ],
   "source": [
    "df_join.show()"
   ]
  },
  {
   "cell_type": "code",
   "execution_count": 56,
   "id": "4876af68",
   "metadata": {},
   "outputs": [],
   "source": [
    "df_zones = spark.read.parquet('zones/')"
   ]
  },
  {
   "cell_type": "code",
   "execution_count": 61,
   "id": "e9553007",
   "metadata": {},
   "outputs": [],
   "source": [
    "df_result = df_join.join(df_zones, df_join.zone == df_zones.LocationID)"
   ]
  },
  {
   "cell_type": "code",
   "execution_count": 66,
   "id": "8649190e",
   "metadata": {},
   "outputs": [
    {
     "name": "stderr",
     "output_type": "stream",
     "text": [
      "24/03/03 17:05:36 WARN MemoryManager: Total allocation exceeds 95.00% (1,020,054,720 bytes) of heap memory\n",
      "Scaling row group sizes to 95.00% for 8 writers\n",
      "                                                                                \r"
     ]
    }
   ],
   "source": [
    "df_result.drop('LocationID', 'zone').write.parquet('tmp/revenue-zones')"
   ]
  },
  {
   "cell_type": "code",
   "execution_count": null,
   "id": "9275cacd",
   "metadata": {},
   "outputs": [],
   "source": []
  }
 ],
 "metadata": {
  "kernelspec": {
   "display_name": "Python 3 (ipykernel)",
   "language": "python",
   "name": "python3"
  },
  "language_info": {
   "codemirror_mode": {
    "name": "ipython",
    "version": 3
   },
   "file_extension": ".py",
   "mimetype": "text/x-python",
   "name": "python",
   "nbconvert_exporter": "python",
   "pygments_lexer": "ipython3",
   "version": "3.9.13"
  }
 },
 "nbformat": 4,
 "nbformat_minor": 5
}
